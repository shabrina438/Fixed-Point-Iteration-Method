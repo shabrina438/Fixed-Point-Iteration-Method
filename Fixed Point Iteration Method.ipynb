{
 "cells": [
  {
   "cell_type": "code",
   "execution_count": 1,
   "id": "57005f31",
   "metadata": {},
   "outputs": [],
   "source": [
    "import numpy as np\n",
    "def f(x):\n",
    "    return x*x-2*x+3"
   ]
  },
  {
   "cell_type": "code",
   "execution_count": 2,
   "id": "bbdf17bc",
   "metadata": {},
   "outputs": [],
   "source": [
    "def g(x):\n",
    "    return ((x*x+3)/2)"
   ]
  },
  {
   "cell_type": "code",
   "execution_count": 3,
   "id": "a1b61366",
   "metadata": {},
   "outputs": [],
   "source": [
    "def approx_error(iteration, x1, x0):\n",
    "    return np.abs((x1 - x0)/x1) *100"
   ]
  },
  {
   "cell_type": "code",
   "execution_count": 4,
   "id": "49f36199",
   "metadata": {},
   "outputs": [],
   "source": [
    "# Implementing Fixed Point Iteration Method\n",
    "def fixedPointIteration(x0, e, N ):\n",
    "    print('\\n\\n\\t\\t     *** FIXED POINT ITERATION ***\\n\\n')\n",
    "    \n",
    "    print(\"Iteration No.\\t    xi \\t\\t  xi+1\\t\\t  approx error   \")\n",
    "    print(\"____________________________________________________________________\")\n",
    "\n",
    "    step = 1   \n",
    "    flag = 1\n",
    "    condition = True\n",
    "    \n",
    "    while condition:\n",
    "        x1 = g(x0)\n",
    "        \n",
    "        for i in range(step):\n",
    "            approx = approx_error(i, x1, x0)\n",
    "        \n",
    "        print('  %d  \\t\\t %0.5f\\t %0.5f\\t %0.5f' % (step,x0, x1, approx))\n",
    "       \n",
    "        x0 = x1\n",
    "        \n",
    "        step = step + 1\n",
    "        \n",
    "        if step > N:\n",
    "            flag=0\n",
    "            break\n",
    "        \n",
    "    condition = approx > e\n",
    "    \n",
    "    if flag==1:\n",
    "        print('\\nRequired root is: %0.8f' % x1)\n",
    "    else:\n",
    "        print('\\nNot Convergent.')"
   ]
  },
  {
   "cell_type": "code",
   "execution_count": 5,
   "id": "d7cb34ae",
   "metadata": {},
   "outputs": [
    {
     "name": "stdout",
     "output_type": "stream",
     "text": [
      "Enter Guess: 0\n",
      "Specified Error: 0.86\n",
      "Maximum Step: 5\n",
      "\n",
      "\n",
      "\t\t     *** FIXED POINT ITERATION ***\n",
      "\n",
      "\n",
      "Iteration No.\t    xi \t\t  xi+1\t\t  approx error   \n",
      "____________________________________________________________________\n",
      "  1  \t\t 0.00000\t 1.50000\t 100.00000\n",
      "  2  \t\t 1.50000\t 2.62500\t 42.85714\n",
      "  3  \t\t 2.62500\t 4.94531\t 46.91943\n",
      "  4  \t\t 4.94531\t 13.72806\t 63.97661\n",
      "  5  \t\t 13.72806\t 95.72979\t 85.65958\n",
      "\n",
      "Not Convergent.\n"
     ]
    }
   ],
   "source": [
    "# Input Section\n",
    "x0 = input('Enter Guess: ')\n",
    "e = input('Specified Error: ')\n",
    "N = input('Maximum Step: ')\n",
    "\n",
    "# Converting x0 and e to float\n",
    "x0 = float(x0)\n",
    "e = float(e)\n",
    "# Converting N to integer\n",
    "N = int(N)\n",
    "fixedPointIteration(x0,e,N)\n",
    "\n",
    "\n",
    "\n",
    "\n"
   ]
  },
  {
   "cell_type": "code",
   "execution_count": null,
   "id": "98cb519f",
   "metadata": {},
   "outputs": [],
   "source": [
    "\n"
   ]
  },
  {
   "cell_type": "code",
   "execution_count": null,
   "id": "624994c1",
   "metadata": {},
   "outputs": [],
   "source": []
  },
  {
   "cell_type": "code",
   "execution_count": null,
   "id": "53a17769",
   "metadata": {},
   "outputs": [],
   "source": []
  }
 ],
 "metadata": {
  "kernelspec": {
   "display_name": "Python 3",
   "language": "python",
   "name": "python3"
  },
  "language_info": {
   "codemirror_mode": {
    "name": "ipython",
    "version": 3
   },
   "file_extension": ".py",
   "mimetype": "text/x-python",
   "name": "python",
   "nbconvert_exporter": "python",
   "pygments_lexer": "ipython3",
   "version": "3.9.5"
  }
 },
 "nbformat": 4,
 "nbformat_minor": 5
}
